{
 "cells": [
  {
   "cell_type": "code",
   "execution_count": null,
   "metadata": {},
   "outputs": [
    {
     "name": "stdout",
     "output_type": "stream",
     "text": [
      "Number of tickers after filtering: 534\n"
     ]
    }
   ],
   "source": [
    "import requests\n",
    "import pandas as pd\n",
    "\n",
    "# Get crypto tickers from binance which not exists in Market Data file\n",
    "def get_available_binance_tickers(excel_file='Market_data.xlsx'):\n",
    "    \"\"\"\n",
    "    Fetches USDT trading pairs from Binance and filters out tickers\n",
    "    listed in the provided Excel file.\n",
    "\n",
    "    Parameters:\n",
    "        excel_file (str): Path to the Excel file containing tickers to remove (column 'Plik').\n",
    "\n",
    "    Returns:\n",
    "        list: A list of available Binance USDT tickers after filtering.\n",
    "    \"\"\"\n",
    "    # Binance API endpoint\n",
    "    url = \"https://api.binance.com/api/v3/exchangeInfo\"\n",
    "\n",
    "    # Send GET request to Binance API and parse JSON response\n",
    "    response = requests.get(url)\n",
    "    data = response.json()\n",
    "\n",
    "    # Extract trading symbols\n",
    "    symbols = [s['symbol'] for s in data['symbols']]\n",
    "\n",
    "    # Create DataFrame from symbol list\n",
    "    df_symbols = pd.DataFrame(symbols, columns=['Ticker'])\n",
    "\n",
    "    # Keep only tickers that end with 'USDT'\n",
    "    df_usdt = df_symbols[df_symbols['Ticker'].str.endswith('USDT')]\n",
    "\n",
    "    # Convert DataFrame to list\n",
    "    tickers = df_usdt['Ticker'].tolist()\n",
    "\n",
    "    # Try to read the Excel file and filter tickers\n",
    "    try:\n",
    "        market_data = pd.read_excel(excel_file)\n",
    "        tickers_to_remove = market_data['Plik'].dropna().tolist()\n",
    "        tickers = [t for t in tickers if t not in tickers_to_remove]\n",
    "    except FileNotFoundError:\n",
    "        print(f\"{excel_file} not found. Proceeding with full ticker list.\")\n",
    "\n",
    "    print(\"Number of tickers after filtering:\", len(tickers))\n",
    "    return tickers\n",
    "\n",
    "tickers_to_download = get_available_binance_tickers()"
   ]
  }
 ],
 "metadata": {
  "kernelspec": {
   "display_name": "bot-trading",
   "language": "python",
   "name": "python3"
  },
  "language_info": {
   "codemirror_mode": {
    "name": "ipython",
    "version": 3
   },
   "file_extension": ".py",
   "mimetype": "text/x-python",
   "name": "python",
   "nbconvert_exporter": "python",
   "pygments_lexer": "ipython3",
   "version": "3.10.16"
  }
 },
 "nbformat": 4,
 "nbformat_minor": 2
}
